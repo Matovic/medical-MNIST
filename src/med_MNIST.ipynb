{
 "cells": [
  {
   "cell_type": "markdown",
   "id": "941cd3c2-2771-43b6-9a20-486f0f7d5bdc",
   "metadata": {},
   "source": [
    "# Model based on CNN with EDA\n",
    " \n",
    "**Author:** [Erik Matovič](https://github.com/Matovic)  \n",
    "**Dataset:** https://www.kaggle.com/andrewmvd/medical-mnist [1]   \n",
    "## Exploratory Data Analysis\n",
    "\n",
    "### Choosing random data from each class to display\n",
    "\n",
    " - in this section, inspiration comes from the article [Exploratory Data Analysis Ideas for Image Classification](https://towardsdatascience.com/exploratory-data-analysis-ideas-for-image-classification-d3fc6bbfb2d2) [2]\n",
    " - first of all, we need to get the names of all subfolders in our data folder:  "
   ]
  },
  {
   "cell_type": "code",
   "execution_count": 1,
   "id": "52dc20bd-54d7-4c27-8653-e4c68d919c41",
   "metadata": {},
   "outputs": [
    {
     "data": {
      "text/plain": [
       "['Hand', 'AbdomenCT', 'HeadCT', 'train', 'BreastMRI', 'ChestCT', 'CXR', 'test']"
      ]
     },
     "execution_count": 1,
     "metadata": {},
     "output_type": "execute_result"
    }
   ],
   "source": [
    "import os\n",
    "\n",
    "data_dir = '../data/' # image folder\n",
    "\n",
    "data_folders = [name for name in os.listdir(data_dir) if os.path.isdir(data_dir + name)]\n",
    "data_folders"
   ]
  },
  {
   "cell_type": "markdown",
   "id": "ca840e07-01fd-4202-bbf8-8bed115df8e1",
   "metadata": {},
   "source": [
    " - we take a look at three randomly chosen images and count the total number of our data \n",
    " - we have 58954 medical images as our data \n",
    " - the only class with less than ten-thousand medical images is the BreastMRI class\n",
    " - the color space of images is grayscale(8-bits), L mode in the instance of PIL image\n",
    " - all randomly chosen medical images have the same height and width, which both of them are 100 pixels\n",
    " - the output of the cell also contains additional information about the randomly chosen medical images\n",
    " - some medical images appear to have a lower quality by raw comparison\n",
    " - the proof of the lower quality of some medical images is with the minimal and maximum pixels; some medical images use the full range of the eight-bit grayscale channel(256 values ranging from 0 to 255), which have more quality\n",
    " - however, some medical images have the minimum value of the pixel around 100, which means the quality of the black color of the background has less quality in comparison with the minimal value set on the zero, and some medical images do not have the maximum value set on 255, which means the saturation of white color has less quality in comparison with the maximum value set on the 255"
   ]
  },
  {
   "cell_type": "code",
   "execution_count": 1,
   "id": "85d7ad53",
   "metadata": {
    "collapsed": false,
    "jupyter": {
     "outputs_hidden": false
    },
    "pycharm": {
     "name": "#%%\n"
    }
   },
   "outputs": [
    {
     "ename": "NameError",
     "evalue": "name 'data_folders' is not defined",
     "output_type": "error",
     "traceback": [
      "\u001b[0;31m---------------------------------------------------------------------------\u001b[0m",
      "\u001b[0;31mNameError\u001b[0m                                 Traceback (most recent call last)",
      "\u001b[0;32m/tmp/ipykernel_23326/2617745885.py\u001b[0m in \u001b[0;36m<module>\u001b[0;34m\u001b[0m\n\u001b[1;32m      8\u001b[0m \u001b[0;34m\u001b[0m\u001b[0m\n\u001b[1;32m      9\u001b[0m \u001b[0;31m# get data from each folder\u001b[0m\u001b[0;34m\u001b[0m\u001b[0;34m\u001b[0m\u001b[0;34m\u001b[0m\u001b[0m\n\u001b[0;32m---> 10\u001b[0;31m \u001b[0;32mfor\u001b[0m \u001b[0mfolder\u001b[0m \u001b[0;32min\u001b[0m \u001b[0mdata_folders\u001b[0m\u001b[0;34m:\u001b[0m\u001b[0;34m\u001b[0m\u001b[0;34m\u001b[0m\u001b[0m\n\u001b[0m\u001b[1;32m     11\u001b[0m     \u001b[0;31m# skip train and test folders\u001b[0m\u001b[0;34m\u001b[0m\u001b[0;34m\u001b[0m\u001b[0;34m\u001b[0m\u001b[0m\n\u001b[1;32m     12\u001b[0m     \u001b[0;32mif\u001b[0m \u001b[0;34m(\u001b[0m\u001b[0mfolder\u001b[0m \u001b[0;34m==\u001b[0m \u001b[0;34m\"train\"\u001b[0m \u001b[0;32mor\u001b[0m \u001b[0mfolder\u001b[0m \u001b[0;34m==\u001b[0m \u001b[0;34m\"test\"\u001b[0m\u001b[0;34m)\u001b[0m\u001b[0;34m:\u001b[0m\u001b[0;34m\u001b[0m\u001b[0;34m\u001b[0m\u001b[0m\n",
      "\u001b[0;31mNameError\u001b[0m: name 'data_folders' is not defined"
     ]
    }
   ],
   "source": [
    "import numpy as np\n",
    "import matplotlib.pyplot as plt\n",
    "from tensorflow.keras.preprocessing import image\n",
    "%matplotlib inline\n",
    "\n",
    "all_data = 0 # counter\n",
    "classes = dict()\n",
    "\n",
    "# get data from each folder\n",
    "for folder in data_folders:\n",
    "    # skip train and test folders\n",
    "    if (folder == \"train\" or folder == \"test\"):\n",
    "        continue\n",
    "    \n",
    "    # get the list of jpegs from sub image class folders\n",
    "    imgs = [fn for fn in os.listdir(data_dir + folder) if fn.endswith('.jpeg')]\n",
    "\n",
    "    # randomly select 3 images from folder\n",
    "    random_select = np.random.choice(imgs, 3, replace = False)\n",
    "    \n",
    "    # plotting 1 x 3 image matrix\n",
    "    fig = plt.figure(figsize = (8,6))\n",
    "    for i in range(3):\n",
    "        fp = data_dir + folder + '/' + random_select[i]\n",
    "        ax = fig.add_subplot(1, 3, i+1)\n",
    "\n",
    "        # to plot without rescaling, remove target_size\n",
    "        fn = image.load_img(fp, target_size = (100,100), color_mode='grayscale')\n",
    "        print(\"Image's color model is:\", fn.mode)\n",
    "        print(\"Image's size is(width, height):\", fn.size)\n",
    "        print(\"Image's info:\", fn.info)\n",
    "        print(\"Image's pixel values(min, max):\", fn.getextrema())\n",
    "        plt.imshow(fn, cmap='Greys_r')\n",
    "        plt.title(folder)\n",
    "        plt.axis('off')\n",
    "    plt.show()\n",
    "\n",
    "    # also check the number of files here\n",
    "    all_data += len(imgs)\n",
    "    classes[folder] = len(imgs)\n",
    "    print(f'{data_dir + folder} has {len(imgs)} files')\n",
    "\n",
    "print(f'We have {all_data} images in total')"
   ]
  },
  {
   "cell_type": "markdown",
   "id": "e8fa5303-ed46-42f7-8d92-4f59050519b1",
   "metadata": {},
   "source": [
    "### The number of medical images by individual classes\n",
    "\n",
    " - in this subsection of the exploratory data analysis, we have graphically represented the number of medical images by individual classes, classes of Hand, AbdomenCT, HradCT, ChestCT, and CXR have the same amount of data, which is ten-thousand medical images, and the only class with fewer medical images is BreastMRI class with 8954 medical images"
   ]
  },
  {
   "cell_type": "code",
   "execution_count": 3,
   "id": "2fc1727c-1280-44a0-b887-83c552a2d95a",
   "metadata": {},
   "outputs": [
    {
     "data": {
      "text/plain": [
       "<AxesSubplot:>"
      ]
     },
     "execution_count": 3,
     "metadata": {},
     "output_type": "execute_result"
    },
    {
     "data": {
      "image/png": "[encoded data removed]",
      "text/plain": [
       "<Figure size 432x288 with 1 Axes>"
      ]
     },
     "metadata": {
      "needs_background": "light"
     },
     "output_type": "display_data"
    }
   ],
   "source": [
    "import seaborn as sns\n",
    "\n",
    "keys = list(classes.keys())\n",
    "\n",
    "no_img = [classes[key] for key in keys] # get number of images in the same order as keys\n",
    "sns.barplot(x=keys, y=no_img)"
   ]
  },
  {
   "cell_type": "markdown",
   "id": "6aa61ac3-4749-4638-96b0-3bce65e9f132",
   "metadata": {},
   "source": [
    "### Dividing a dataset into a training and test subset \n",
    "- before we start making our model, it is essential to divide our dataset into the training and testing data"
   ]
  },
  {
   "cell_type": "code",
   "execution_count": 4,
   "id": "515eb1c4-79f7-4e4a-aa93-e5aa932eef50",
   "metadata": {},
   "outputs": [
    {
     "name": "stdout",
     "output_type": "stream",
     "text": [
      "Done!\n"
     ]
    }
   ],
   "source": [
    "import shutil\n",
    "import os\n",
    "import numpy as np\n",
    "\n",
    "for folder in data_folders:\n",
    "    # skip train and test folders\n",
    "    if (folder == \"train\" or folder == \"test\"):\n",
    "        continue\n",
    "        \n",
    "    # if directory exist, skip\n",
    "    if (os.path.isdir(data_dir +'train/' + folder)):\n",
    "        continue\n",
    "        \n",
    "    # otherwise create one\n",
    "    os.makedirs(data_dir +'train/' + folder)\n",
    "    os.makedirs(data_dir +'test/' + folder)\n",
    "    source_dir = data_dir + folder\n",
    "    allFileNames = os.listdir(source_dir)\n",
    "    np.random.shuffle(allFileNames)\n",
    "    \n",
    "    # 20% of our medical images is test data\n",
    "    test_ratio = 0.20\n",
    "\n",
    "    train_FileNames, test_FileNames = np.split(np.array(allFileNames),\n",
    "                                                          [int(len(allFileNames)* (1 - test_ratio))])\n",
    "    \n",
    "    train_FileNames = [source_dir + '/' + name for name in train_FileNames.tolist()]\n",
    "    test_FileNames = [source_dir + '/' + name for name in test_FileNames.tolist()]\n",
    "    \n",
    "    for name in train_FileNames:\n",
    "      shutil.copy(name, data_dir +'train/' + folder)\n",
    "    for name in test_FileNames:\n",
    "      shutil.copy(name, data_dir +'test/' + folder)\n",
    "print('Done!')"
   ]
  },
  {
   "cell_type": "markdown",
   "id": "af53722b-d745-43a7-ac60-30a08b0d6a74",
   "metadata": {},
   "source": [
    " - we divided the data into the training data with 80% of the total medical images and testing data with 20% of the total medical images \n",
    " - additional information within the exploratory data analysis:\n",
    "     - images dimension: 64x64\n",
    "     - 47163 images represent 80% of our dataset, which is within the training subset, 20% of our dataset is in the testing subset\n",
    "     - six classes in the classification: Hand, AbdomenCT, HeadCT, BreastMRI, ChestCT, CXR"
   ]
  },
  {
   "cell_type": "code",
   "execution_count": 5,
   "id": "b8ecc256-7759-4f59-9c6c-5d931465498e",
   "metadata": {},
   "outputs": [
    {
     "name": "stdout",
     "output_type": "stream",
     "text": [
      "There are 47163 images for training in 6 classes\n",
      "There are 11791 images for testing in 6 classes\n",
      "Label names: ['Hand', 'AbdomenCT', 'HeadCT', 'BreastMRI', 'ChestCT', 'CXR']\n",
      "Label counts train: [8000, 8000, 8000, 7163, 8000, 8000]\n",
      "Label counts test: [2000, 2000, 2000, 1791, 2000, 2000]\n",
      "Image dimensions: 64 x 64\n"
     ]
    }
   ],
   "source": [
    "from PIL import Image\n",
    "\n",
    "# set paths for the dataset\n",
    "train_dir = '../data/train/'\n",
    "test_dir = '../data/test/'\n",
    "\n",
    "# get class names, equal as data_folders upper\n",
    "class_names = os.listdir(train_dir)  \n",
    "class_names_test = os.listdir(test_dir)  \n",
    "\n",
    "# get a number of classes, which is a number of subdirectories\n",
    "no_classes = len(class_names)        \n",
    "\n",
    "# get list of images' filenames based on classes\n",
    "# list has lenght of no_classes and each index have imgs of a class\n",
    "images_classes = list(range(no_classes))\n",
    "for i in range(0, no_classes, 1):\n",
    "    images_classes[i] = list()\n",
    "    for x in os.listdir(os.path.join(train_dir, class_names[i])):\n",
    "        images_classes[i].append(os.path.join(train_dir, class_names[i], x))\n",
    "\n",
    "        \n",
    "images_classes_test = list(range(no_classes))\n",
    "for i in range(0, no_classes, 1):\n",
    "    images_classes_test[i] = list()\n",
    "    for x in os.listdir(os.path.join(test_dir, class_names_test[i])):\n",
    "        images_classes_test[i].append(os.path.join(test_dir, class_names_test[i], x))\n",
    "            \n",
    "# get number of images of each class\n",
    "no_imgs_class = list()     \n",
    "for folder in range(0, no_classes, 1):\n",
    "    no_imgs_class.append(len(images_classes[folder]))\n",
    "    \n",
    "no_imgs_class_test = list()\n",
    "for folder in range(0, no_classes, 1):\n",
    "    no_imgs_class_test.append(len(images_classes_test[folder]))\n",
    "    \n",
    "# get list of filenames for testing & training\n",
    "imgs_files = list()           \n",
    "img_files_test = list()\n",
    "\n",
    "# get the labels or the type of each individual img in the list\n",
    "img_class = list()              \n",
    "img_class_test = list()\n",
    "\n",
    "# set variables of img_class & imgs_files\n",
    "for folder in range(0, no_classes, 1):\n",
    "    imgs_files.extend(images_classes[folder])\n",
    "    img_class.extend([folder] * no_imgs_class[folder])\n",
    "    \n",
    "# set variables for training\n",
    "for folder in range(0, no_classes, 1):\n",
    "    img_files_test.extend(images_classes_test[folder])\n",
    "    img_class_test.extend([folder] * no_imgs_class_test[folder])\n",
    "\n",
    "# get total number of images\n",
    "no_total_img = len(img_class)\n",
    "no_total_img_train = len(img_class_test)\n",
    "\n",
    "# get the dimensions\n",
    "img_width, img_height = Image.open(imgs_files[0]).size         \n",
    "\n",
    "print(\"There are\", no_total_img, \"images for training in\", no_classes, \"classes\")\n",
    "print(\"There are\", no_total_img_train, \"images for testing in\", no_classes, \"classes\")\n",
    "print(\"Label names:\", class_names)\n",
    "print(\"Label counts train:\", no_imgs_class)\n",
    "print(\"Label counts test:\", no_imgs_class_test)\n",
    "print(\"Image dimensions:\", img_width, \"x\", img_height)\n"
   ]
  },
  {
   "cell_type": "markdown",
   "id": "0bf35a34-29d7-4e71-a17f-28e5fdf5b8a8",
   "metadata": {},
   "source": [
    " - classes Hand, AbdomenCT, HradCT, ChestCT, and CXR have the same number of data, eight thousand medical images, and a single class, BreastMRI, has fewer images, just over seven thousand medical data, together we have 47163 medical images in our training subset"
   ]
  },
  {
   "cell_type": "code",
   "execution_count": 6,
   "id": "dcfe9abc-3b38-47d2-8dae-0816b2ae8346",
   "metadata": {},
   "outputs": [
    {
     "data": {
      "text/plain": [
       "<AxesSubplot:>"
      ]
     },
     "execution_count": 6,
     "metadata": {},
     "output_type": "execute_result"
    },
    {
     "data": {
      "image/png": "[encoded data removed]",
      "text/plain": [
       "<Figure size 432x288 with 1 Axes>"
      ]
     },
     "metadata": {
      "needs_background": "light"
     },
     "output_type": "display_data"
    }
   ],
   "source": [
    "sns.barplot(x=class_names, y=no_imgs_class)"
   ]
  },
  {
   "cell_type": "markdown",
   "id": "de335d7b-c7d6-4323-b5f2-25f1dca7a6bd",
   "metadata": {},
   "source": [
    " - classes Hand, AbdomenCT, HradCT, ChestCT, and CXR have the same number of data, two thousand medical images, and a single class, BreastMRI, has fewer images, just over one thousand medical data, together we have 47163 medical images in our testing subset"
   ]
  },
  {
   "cell_type": "code",
   "execution_count": 7,
   "id": "003f2051-d602-493a-afbb-905c582d10c3",
   "metadata": {},
   "outputs": [
    {
     "data": {
      "text/plain": [
       "<AxesSubplot:>"
      ]
     },
     "execution_count": 7,
     "metadata": {},
     "output_type": "execute_result"
    },
    {
     "data": {
      "image/png": "[encoded data removed]",
      "text/plain": [
       "<Figure size 432x288 with 1 Axes>"
      ]
     },
     "metadata": {
      "needs_background": "light"
     },
     "output_type": "display_data"
    }
   ],
   "source": [
    "sns.barplot(x=class_names, y=no_imgs_class_test)"
   ]
  },
  {
   "cell_type": "markdown",
   "id": "2230d5d5-d7b7-495c-ac3b-20e449baf2c9",
   "metadata": {},
   "source": [
    "### Model design\n",
    "\n",
    " - concerning 6 classes and medical images, we decided to design a classifier model based on a convolutional neural network, which is used to classify or segment image data\n",
    " - from the exploratory data analysis, we see that it will be necessary to transform the pixel values to the same scale because currently, not all pixel values of medical images start and end at the same values\n",
    " \n",
    " ## Model\n",
    "\n",
    " - to implement the model, we decided to use the PyTorch module using the CUDA architecture to parallelize the calculations on the GPU\n",
    " - if the machine does not have a graphics processing unit that supports the CUDA architecture, then the calculations will run on the CPU, which is slower "
   ]
  },
  {
   "cell_type": "code",
   "execution_count": 8,
   "id": "732ffe48-2317-4e3c-830f-7c2bc655618e",
   "metadata": {},
   "outputs": [
    {
     "name": "stdout",
     "output_type": "stream",
     "text": [
      "cuda:0 {'num_workers': 8, 'pin_memory': True} cpu\n"
     ]
    }
   ],
   "source": [
    "import numpy as np\n",
    "import os\n",
    "import time\n",
    "%matplotlib inline\n",
    "import matplotlib.pyplot as mp\n",
    "import torch\n",
    "import torchvision \n",
    "\n",
    "# run PyTorch on CUDA architecture\n",
    "if torch.cuda.is_available():     \n",
    "    dev = torch.device(\"cuda:0\")\n",
    "    kwar = {'num_workers': 8, 'pin_memory': True}\n",
    "    cpu = torch.device(\"cpu\")\n",
    "else:\n",
    "    print(\"Warning: CUDA not found, CPU only.\")\n",
    "    dev = torch.device(\"cpu\")\n",
    "    kwar = {}\n",
    "    cpu = torch.device(\"cpu\")\n",
    "\n",
    "print(dev, kwar, cpu)"
   ]
  },
  {
   "cell_type": "markdown",
   "id": "8c3edfbd-3be1-4121-b569-db1c47f0991a",
   "metadata": {},
   "source": [
    "- display which PyTorch version are we using\n",
    "- we have used PyTorch with version 1.10.1 and with CUDA architecture 11.3(1.10.1+cu113) on our local machine"
   ]
  },
  {
   "cell_type": "code",
   "execution_count": 9,
   "id": "6f0200d1-2fdb-4cf6-8625-b022d13930c5",
   "metadata": {},
   "outputs": [
    {
     "name": "stdout",
     "output_type": "stream",
     "text": [
      "1.10.1+cu113\n"
     ]
    }
   ],
   "source": [
    "print(torch.__version__) "
   ]
  },
  {
   "cell_type": "markdown",
   "id": "51002be3-c28d-46d3-9628-214e5ae0ead7",
   "metadata": {},
   "source": [
    " - to properly extract information from pixels due to the grayscale color model, we increase the contrast and therefore scale the images to pixel values from 0 to 1\n",
    " - simultaneously, it is essential to convert JPEG images to data type tensors "
   ]
  },
  {
   "cell_type": "code",
   "execution_count": 10,
   "id": "db853c0c-889c-42f4-9da2-ded2097cd0cb",
   "metadata": {},
   "outputs": [
    {
     "name": "stdout",
     "output_type": "stream",
     "text": [
      "After rescaling, min pixel value: 0.0 and max pixel value: 1.0\n"
     ]
    }
   ],
   "source": [
    "toTensor = torchvision.transforms.ToTensor()\n",
    "\n",
    "# Load, scale, and stack image tensor\n",
    "tensors = list()\n",
    "for img_path in imgs_files:\n",
    "    PIL_img = Image.open(img_path)\n",
    "    # from PIL image, get a tensor\n",
    "    tensor_img = toTensor(PIL_img)\n",
    "    \n",
    "    # the image isn't empty, rescale its values to run from 0 to 1\n",
    "    if(tensor_img.min() < tensor_img.max()):  \n",
    "        tensor_img = (tensor_img - tensor_img.min()) / (tensor_img.max() - tensor_img.min()) \n",
    "    \n",
    "    # append list of tensors\n",
    "    tensors.append(tensor_img)\n",
    "    \n",
    "# stack image (X) tensor\n",
    "img_tensor = torch.stack(tensors) \n",
    "    \n",
    "# Create label (Y) tensor\n",
    "class_tensor = torch.tensor(img_class)  \n",
    "\n",
    "# Get look at rescaled values\n",
    "print(f'After rescaling, min pixel value: {img_tensor.min().item()} and max pixel value: {img_tensor.max().item()}')\n",
    "\n",
    "\n",
    "# do this for testing\n",
    "tensors_test = list()\n",
    "for img_path in img_files_test:\n",
    "    PIL_img = Image.open(img_path)\n",
    "    # from PIL image, get a tensor\n",
    "    tensor_img = toTensor(PIL_img)\n",
    "    \n",
    "    # the image isn't empty, rescale its values to run from 0 to 1\n",
    "    if(tensor_img.min() < tensor_img.max()):  \n",
    "        tensor_img = (tensor_img - tensor_img.min()) / (tensor_img.max() - tensor_img.min()) \n",
    "    \n",
    "    # append list of tensors\n",
    "    tensors_test.append(tensor_img)\n",
    "    \n",
    "# stack image (X) tensor\n",
    "img_tensor_test = torch.stack(tensors_test) \n",
    "    \n",
    "# Create label (Y) tensor\n",
    "class_tensor_test = torch.tensor(img_class_test)  "
   ]
  },
  {
   "cell_type": "markdown",
   "id": "36d675c4-c38f-4fb2-b18f-9e041ab65a73",
   "metadata": {},
   "source": [
    " - vytvoríme triedu nášho modelu založeného na konvolučnej umelej neurónovej sieti pomocou modulu PyTorch, pričom všetky výpočty budú rozdelené na grafickej jendotke pomocou architektúry CUDA, nevyhnutné, aby grafická karta a stroj podporovali CUDA architektúru  \n",
    " - ako aktivačnú funkciu sme vybrali RELU, ktorá nepredpokladá záporné hodnoty, môžme ju definovať ako __f(x) = max(0, x)__, kde __x__ je náš vstup, vzhľadom na to, že máme hodnoty pixelov od 0 po 255 vo farebnom modely grayscale, tak nemusíme pracovať so zápornými hodnotami"
   ]
  },
  {
   "cell_type": "code",
   "execution_count": 11,
   "id": "fc7ebabd-4113-473d-b49c-26cd9e861b16",
   "metadata": {},
   "outputs": [],
   "source": [
    "class CNN_ANN(torch.nn.Module):\n",
    "    \"\"\"\n",
    "    :param torch.nn.Module: Base class for all neural network modules.\n",
    "    \n",
    "    Based on the architecture of the convolutional neural network with RELU.\n",
    "    The number of labels = the output layer nodes.\n",
    "    \n",
    "    This model work only with images with 1 channel, so in grayscale color space for this particular assignment.\n",
    "    \"\"\"\n",
    "    convolution = (5, 10)\n",
    "    convolution_size = 7\n",
    "     \n",
    "    def __init__(self, img_width, img_height, no_labels): \n",
    "        \"\"\"\n",
    "        :param self: object\n",
    "        :param img_width: Image's x dimension\n",
    "        :param img_height: Image's y dimension\n",
    "        :param no_labels: Number of labels\n",
    "        \n",
    "        Initialize a model based on the architecture of the convolutional neural network \n",
    "        with Rectified Linear Unit activation function. \n",
    "        \n",
    "        We apply convolution tuple to pixels in our model, while in the convolution convolution_size is the number of surrounding pixels.\n",
    "        Formula input_layer_no_nodes calculates last node in order to connect layers.\n",
    "        \n",
    "        Image's height with image's width decreases with each convolution, because it makes image smaller. \n",
    "        \"\"\"       \n",
    "\n",
    "        # Set constructor of torch.nn.Module in order set up the CNN_ANN class\n",
    "        super(CNN_ANN,self).__init__()  \n",
    "\n",
    "        # Set number of nodes for the input layer.\n",
    "        self.input_layer_no_nodes = self.convolution[1]*(img_width-(self.convolution_size-1)-(self.convolution_size-1))*(img_height-(self.convolution_size-1)-(self.convolution_size-1))\n",
    "   \n",
    "        # Store weights between layers\n",
    "        # Override atribures for base class.\n",
    "        # nn.Conv2d(channels in, channels out, convolution height/width)        \n",
    "        no_channels = 1 # grayscale, for RGB we would have 3 \n",
    "        self.cnv1 = torch.nn.Conv2d(no_channels, self.convolution[0], self.convolution_size)\n",
    "        self.cnv2 = torch.nn.Conv2d(self.convolution[0], self.convolution[1], self.convolution_size)\n",
    "\n",
    "\n",
    "        # Define the number of output nodes for fully connected layers\n",
    "        fully_connected_layer1_no_nodes = 400\n",
    "        fully_connected_layer2_no_nodes = 80\n",
    "        \n",
    "        # Stores the weights between the fully connected layers\n",
    "        # nn.Linear(nodes in, nodes out)\n",
    "        self.weight_full_connected_layer1 = torch.nn.Linear(self.input_layer_no_nodes, fully_connected_layer1_no_nodes)\n",
    "        self.weight_full_connected_layer2 = torch.nn.Linear(fully_connected_layer1_no_nodes, fully_connected_layer2_no_nodes)\n",
    "        self.weight_full_connected_layer_final = torch.nn.Linear(fully_connected_layer2_no_nodes, no_labels)\n",
    "        \n",
    "    def forward(self,x):\n",
    "        \"\"\"\n",
    "        :param self: An object\n",
    "        :param x: Input layer.\n",
    "        :returns x: Output layer.\n",
    "        \n",
    "        Define how to get the output of the neural network. Needs to be implemented. \n",
    "        This is called when the neural network is applied to an input.\n",
    "        \n",
    "        Define the steps used in the computation of output from input.\n",
    "        Use the weights defined in the constructor.\n",
    "        We use RELU activaciton function.\n",
    "        \"\"\"\n",
    "        \n",
    "        # Apply RELU activation fuction for first convolutional layer \n",
    "        x = torch.nn.functional.relu(self.cnv1(x)) \n",
    "        \n",
    "        # Apply RELU activation fuction for second convolutional layer\n",
    "        x = torch.nn.functional.relu(self.cnv2(x)) \n",
    "        \n",
    "        # Connect convolutional layer into connected layer\n",
    "        x = x.view(-1, self.num_flat_features(x)) \n",
    "        \n",
    "        # Apply RELU activation fuction for first connected layer\n",
    "        x = torch.nn.functional.relu(self.weight_full_connected_layer1(x)) \n",
    "        \n",
    "        # Apply RELU activation fuction for second connected layer\n",
    "        x = torch.nn.functional.relu(self.weight_full_connected_layer2(x)) \n",
    "        \n",
    "        # Final connected layer without RELU, calculate loss function\n",
    "        x = self.weight_full_connected_layer_final(x)        \n",
    "        \n",
    "        # Return final connected layer\n",
    "        return x\n",
    "\n",
    "    def num_flat_features(self, x):  \n",
    "        \"\"\"\n",
    "        :param self: An object\n",
    "        :param x: Input layer\n",
    "        : returns \n",
    "        \n",
    "        Change x to a vector. Needs to be explicitly implemented.\n",
    "        \"\"\"\n",
    "        size = x.size()[1:]\n",
    "        num_features = 1\n",
    "        for s in size:\n",
    "            num_features *= s\n",
    "        return num_features"
   ]
  },
  {
   "cell_type": "markdown",
   "id": "af8fdbf0-4e23-4bc8-b1ac-d3b1720d54c2",
   "metadata": {},
   "source": [
    " - vytvoríme inštanciu nášho modelu:"
   ]
  },
  {
   "cell_type": "code",
   "execution_count": 12,
   "id": "7f5d16d4-a487-4ca1-ac36-ec61a3a76d32",
   "metadata": {},
   "outputs": [],
   "source": [
    "# create model object and pass all calculations to the GPU with CUDA architecture\n",
    "model = CNN_ANN(img_width, img_height, no_classes).to(dev)"
   ]
  },
  {
   "cell_type": "markdown",
   "id": "209950ff-e087-4b45-a535-72e0aef1e77d",
   "metadata": {},
   "source": [
    " - vytvoríme zoznam obrázkov pre trénovanie a testovanie, 47163 obrázkov máme pre trénovanie a 11791 pre testovanie"
   ]
  },
  {
   "cell_type": "code",
   "execution_count": 13,
   "id": "ef8f14cc-253a-4350-be0e-2ef8bb89fa03",
   "metadata": {},
   "outputs": [
    {
     "name": "stdout",
     "output_type": "stream",
     "text": [
      "Training images = 47163 Testing = 11791\n"
     ]
    }
   ],
   "source": [
    "test_img_numbers = list()\n",
    "train_img_numbers = list()\n",
    "\n",
    "# Add imgs into train list\n",
    "for i in range(no_total_img):\n",
    "        train_img_numbers.append(i)\n",
    "        \n",
    "# Add imgs into test list\n",
    "for i in range(no_total_img_train):\n",
    "        test_img_numbers.append(i)\n",
    "        \n",
    "# Count the number in each set\n",
    "no_img_train = len(train_img_numbers)  \n",
    "no_img_test = len(test_img_numbers)\n",
    "print(\"Training images =\", no_img_train, \"Testing =\", no_img_test)"
   ]
  },
  {
   "cell_type": "markdown",
   "id": "0501a11f-8817-4552-a988-3f6b9bd614c2",
   "metadata": {},
   "source": [
    " - vytvoríme tensor dátové typy pre trénovanie a testovanie:"
   ]
  },
  {
   "cell_type": "code",
   "execution_count": 14,
   "id": "bcacf545-62d9-4515-9354-15e52795a876",
   "metadata": {},
   "outputs": [],
   "source": [
    "train_ids = torch.tensor(train_img_numbers)    \n",
    "test_ids = torch.tensor(test_img_numbers)\n",
    "trainX = img_tensor[train_ids,:,:,:]\n",
    "trainY = class_tensor[train_ids]\n",
    "testX = img_tensor_test[test_ids,:,:,:]\n",
    "testY = class_tensor_test[test_ids]"
   ]
  },
  {
   "cell_type": "markdown",
   "id": "3e6b2078-846b-4c9a-94d4-e63167754ed1",
   "metadata": {},
   "source": [
    " - natrénujeme našu neurónovu sieť modelu v 10 epochách:"
   ]
  },
  {
   "cell_type": "code",
   "execution_count": 15,
   "id": "e5dc6451-15d0-4cf4-80cd-84afb3ca3aad",
   "metadata": {},
   "outputs": [
    {
     "name": "stdout",
     "output_type": "stream",
     "text": [
      "Epoch = 0; Training loss = 146.43627820909023\n",
      "Epoch = 1; Training loss = 26.841743130236864\n",
      "Epoch = 2; Training loss = 21.40828127786517\n",
      "Epoch = 3; Training loss = 10.7601820230484\n",
      "Epoch = 4; Training loss = 7.677139786072075\n",
      "Epoch = 5; Training loss = 6.502034819684923\n",
      "Epoch = 6; Training loss = 19.35174631047994\n",
      "Epoch = 7; Training loss = 5.856186275370419\n",
      "Epoch = 8; Training loss = 4.208227928727865\n",
      "Epoch = 9; Training loss = 3.2181634549051523\n"
     ]
    }
   ],
   "source": [
    "# Setting too large batch size will cause an out-of-memory error.\n",
    "batch_size = 300           \n",
    "\n",
    "# Number of training batches per epoch, round down to simplify last batch\n",
    "trainBats = no_img_train // batch_size       \n",
    "\n",
    "# Test batches, round up to include all\n",
    "testBats = -(-no_img_test // batch_size)     \n",
    "\n",
    "# Take into the account the imbalanced dataset.\n",
    "weights = torch.zeros(no_classes)     \n",
    "\n",
    "# Rarer images are counted more to the loss, so we prevent the model from ignoring rarer images.\n",
    "for i in trainY.tolist():            \n",
    "    weights[i].add_(1)              \n",
    "    \n",
    "# Weights should be inversely related to count\n",
    "weights = 1. / weights.clamp_(min=1.)                     \n",
    "\n",
    "# The weights average to 1, send to CUDA\n",
    "weights = (weights * no_classes / weights.sum()).to(dev)\n",
    "\n",
    "# Initialize an optimizer, lr means learning rate\n",
    "optimizerSGD = torch.optim.SGD(model.parameters(), lr = 0.01)   \n",
    "\n",
    "# Max training epochs = 10\n",
    "for epoch in range(0, 10, 1):\n",
    "    # Set model to training mode\n",
    "    model.train()                     \n",
    "    loss_epoch = 0.\n",
    "    # Shuffle data to randomize batches\n",
    "    permute = torch.randperm(no_img_train)  \n",
    "    trainX = trainX[permute,:,:,:]\n",
    "    trainY = trainY[permute]\n",
    "    # Iterate over batches\n",
    "    for j in range(trainBats):        \n",
    "        # Zero out gradient accumulated in optimizer\n",
    "        optimizerSGD.zero_grad()              \n",
    "        # Slice shuffled data into batches\n",
    "        batX = trainX[j*batch_size:(j+1)*batch_size,:,:,:].to(dev)   \n",
    "        # .to(dev) moves these batches to the GPU\n",
    "        batY = trainY[j*batch_size:(j+1)*batch_size].to(dev)    \n",
    "        # Evalute predictions\n",
    "        yOut = model(batX)            \n",
    "        # Compute loss\n",
    "        loss = torch.nn.functional.cross_entropy(yOut, batY,weight=weights) \n",
    "        # Add loss\n",
    "        loss_epoch += loss.item()   \n",
    "        # Backpropagate loss\n",
    "        loss.backward()          \n",
    "        # Update model weights using optimizer\n",
    "        optimizerSGD.step()    \n",
    "    print(f\"Epoch = {epoch}; Training loss = {loss_epoch}\")\n",
    "    "
   ]
  },
  {
   "cell_type": "markdown",
   "id": "50102201-fd75-4489-bc29-f5844b13ba7f",
   "metadata": {},
   "source": [
    " - náš model mal korektné predikcie na testovaných dátach 11706 / 11791, čo predstavuje približne 99% úspešnosť:"
   ]
  },
  {
   "cell_type": "code",
   "execution_count": 16,
   "id": "ad18c87d-18ec-49e4-8cf9-cf138dbea70e",
   "metadata": {},
   "outputs": [
    {
     "name": "stdout",
     "output_type": "stream",
     "text": [
      "Correct predictions:  11706 / 11791\n",
      "Confusion Matrix:\n",
      " [[1988    2    6    1    0    3]\n",
      " [   0 1990    4    1    5    0]\n",
      " [   5    7 1982    0    6    0]\n",
      " [   0    0    0 1789    2    0]\n",
      " [   0    1    2    3 1994    0]\n",
      " [  37    0    0    0    0 1963]]\n"
     ]
    }
   ],
   "source": [
    "# Set an empty confusion matrix\n",
    "confusion_matrix = np.zeros((no_classes,no_classes),dtype=int)    \n",
    "model.eval()\n",
    "with torch.no_grad():\n",
    "    # Shuffle test data\n",
    "    permute = torch.randperm(no_img_test)                     \n",
    "    testX = testX[permute,:,:,:]\n",
    "    testY = testY[permute]\n",
    "    \n",
    "    # Iterate over test batches\n",
    "    for j in range(testBats):                           \n",
    "        batX = testX[j*batch_size:(j+1)*batch_size,:,:,:].to(dev)\n",
    "        batY = testY[j*batch_size:(j+1)*batch_size].to(dev)\n",
    "        \n",
    "        # Pass test batch through model\n",
    "        yOut = model(batX)                 \n",
    "        \n",
    "        # Generate predictions by finding the max Y values\n",
    "        pred = yOut.max(1,keepdim=True)[1]     \n",
    "        \n",
    "        # Bind actual and predicted to\n",
    "        for j in torch.cat((batY.view_as(pred), pred),dim=1).tolist(): \n",
    "            # make (row, col) pairs, increment confusion matrix\n",
    "            confusion_matrix[j[0],j[1]] += 1   \n",
    "            \n",
    "# Sum over diagonal elements to count correct predictions\n",
    "correct_predictions = 0\n",
    "for i in range(0, no_classes, 1):\n",
    "    correct_predictions += confusion_matrix[i,i] \n",
    "print(\"Correct predictions: \", correct_predictions, \"/\", no_img_test)\n",
    "print(\"Confusion Matrix:\\n\", confusion_matrix)"
   ]
  },
  {
   "cell_type": "markdown",
   "id": "3ba3985d-b23b-4616-bb19-3065242bc29a",
   "metadata": {},
   "source": [
    "## Záver\n",
    "\n",
    " - pre implementáciu modelu konvolučnej neurónovej sieti sme sa rozhodli použiť Python modul PyTorch s využitím CUDA architektúry pre paralelizáciu výpočtov na GPU\n",
    " - úspešnosť nášho modelu je približne 99%, vo viacerých spúšťaniach sa nám úspešnosť pohybovala medzi 97% až 99%\n",
    " - model by sa dal zlepšiť analyzovaním obrázkov, ktoré model nevedel správne vyhodnotiť\n",
    " - na našich dátach sme neriešili overfitting(model je príliš natrénovaný na trénovacie dáta) ani underfitting(model nevie zachytiť štruktúru dát), do budúcna by bolo vhodné zlepšiť tento model validáciou na overfitting\n",
    " - ďalším zlepšením by mohla byť vlastná loss funkcia, ktorá by mohla zlepšiť predikcie modelu\n",
    " - ako alternatívu ku konvolučnej neurónovej sieti by sme mohli zvážiť UNet alebo UNet++, čo sú neurónove siete založené na konvolučnej neurónovej sieti špeciálne pre medicínske obrázky\n",
    " - ako ďalšia alternatíva pripadá do úvahy kombinácia spomínaných neurónových sieti - konvolučnej a UNet, ktorá sa nazýva aj ako kaskadová konvolučná sieť s UNet, čo sa používa pri segmentovaní a klasifikovaní buniek v medicínskych dátach, avšak v našom prípade nemáme dáta s bunkami, tak v tomto prípade, by výsledky nemuseli byť lepšie\n",
    " \n",
    "## Bibliography\n",
    "\n",
    "[1] Medical MNIST Classification, apolanco3225, 2017, GitHub, GitHub repository, https://github.com/apolanco3225/Medical-MNIST-Classification\n",
    "\n",
    "[2] Exploratory Data Analysis Ideas for Image Classification, Eunjoo Byeon, towards data science, article, https://towardsdatascience.com/exploratory-data-analysis-ideas-for-image-classification-d3fc6bbfb2d2"
   ]
  }
 ],
 "metadata": {
  "kernelspec": {
   "display_name": "Python 3 (ipykernel)",
   "language": "python",
   "name": "python3"
  },
  "language_info": {
   "codemirror_mode": {
    "name": "ipython",
    "version": 3
   },
   "file_extension": ".py",
   "mimetype": "text/x-python",
   "name": "python",
   "nbconvert_exporter": "python",
   "pygments_lexer": "ipython3",
   "version": "3.9.5"
  }
 },
 "nbformat": 4,
 "nbformat_minor": 5
}
