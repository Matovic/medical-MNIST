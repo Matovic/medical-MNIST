{
 "cells": [
  {
   "cell_type": "markdown",
   "id": "941cd3c2-2771-43b6-9a20-486f0f7d5bdc",
   "metadata": {},
   "source": [
    "# Exploratory Data Analysis\n",
    " \n",
    "**Autori:** Erik Matovič a Simon Kokavec   \n",
    "**Dataset:** https://www.kaggle.com/andrewmvd/medical-mnist  \n",
    "**Percentuálny podiel:** 50/50\n"
   ]
  },
  {
   "cell_type": "code",
   "execution_count": null,
   "id": "52dc20bd-54d7-4c27-8653-e4c68d919c41",
   "metadata": {},
   "outputs": [],
   "source": []
  }
 ],
 "metadata": {
  "kernelspec": {
   "display_name": "Python 3 (ipykernel)",
   "language": "python",
   "name": "python3"
  },
  "language_info": {
   "codemirror_mode": {
    "name": "ipython",
    "version": 3
   },
   "file_extension": ".py",
   "mimetype": "text/x-python",
   "name": "python",
   "nbconvert_exporter": "python",
   "pygments_lexer": "ipython3",
   "version": "3.9.5"
  }
 },
 "nbformat": 4,
 "nbformat_minor": 5
}
